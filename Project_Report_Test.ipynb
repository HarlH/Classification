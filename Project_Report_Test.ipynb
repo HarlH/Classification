{
 "cells": [
  {
   "cell_type": "markdown",
   "id": "dd4a3e8c-22d6-44ed-a882-067fa9121509",
   "metadata": {},
   "source": [
    "# The Classification of Pulsar Stars - Project Report\n",
    "**By Oliver Gullery, Chan Le, Simon Lin, and Adam Parolin**"
   ]
  },
  {
   "cell_type": "markdown",
   "id": "da135ffa-db66-40f1-a75b-5bde5dd14b3e",
   "metadata": {},
   "source": [
    "### Introduction"
   ]
  },
  {
   "cell_type": "markdown",
   "id": "69253e97-554c-439b-8c46-e9f308b40b47",
   "metadata": {},
   "source": [
    "Pulsar stars are a rare type of neutron star that produce detectable radio emissions. Pulsars rotate and emit beams of electromagnetic radiation, which can be detected if they align directly with Earth. \n",
    "\n",
    "These beams take the form of radio waves - electromagnetic waves oscillating at specific frequencies that can be detected.\n",
    "\n",
    "Using scientific equipment, we can scan for radio waves and discover new pulsar stars. However, some positive detections are caused by radio frequency interference, which makes real detections difficult to find. The main objective of our data analysis is determining if scientific equipment analyzed a real pulsar star or radio frequency interference.<br/> \n",
    "\n",
    "<img src=\"https://media.giphy.com/media/l3dj5M4YLaFww31V6/giphy.gif\" width = \"600\"/>\n",
    "\n",
    "Source: https://media.giphy.com/media/l3dj5M4YLaFww31V6/giphy.gif\n",
    "\n",
    "This leads into our question: \n",
    "__Using pulsar star candidate data recorded by scientific equipment, is a given candidate a true pulsar star or just radio frequency interference?__\n",
    "\n",
    "Each observation in the data set (the <a href=\"https://archive.ics.uci.edu/ml/datasets/HTRU2\">HTRU2 Data Set</a> by Rob Lyon) is a candidate, with 8 continuous variables:<br />\n",
    "1. `mean_of_int_profiles` <br/>\n",
    "2. `sd_of_int_profiles`<br />\n",
    "3. `excess_kurtosis_of_int_profiles`<br />\n",
    "4. `skewness_of_int_profiles`<br />\n",
    "5. `mean_of_curve`<br />\n",
    "6. `sd_of_curve`<br />\n",
    "7. `excess_kurtosis_of_curve`<br />\n",
    "8. `skewness_of_curve`<br />\n",
    "\n",
    "... and one class variable:<br />\n",
    "1. `true_pulsar`\n",
    "\n"
   ]
  },
  {
   "cell_type": "markdown",
   "id": "22e0d2ef-d10f-4d94-8c9b-dacd87e3402e",
   "metadata": {},
   "source": [
    "### Method and Results"
   ]
  },
  {
   "cell_type": "code",
   "execution_count": null,
   "id": "faade234-aeb9-47fa-8854-4d63b2ef0920",
   "metadata": {},
   "outputs": [],
   "source": [
    "# Importing required libraries\n",
    "\n",
    "library(tidyverse)\n",
    "library(repr)\n",
    "library(tidymodels)"
   ]
  },
  {
   "cell_type": "markdown",
   "id": "92660ca6-e564-4923-8df2-d64ab729a8ed",
   "metadata": {},
   "source": [
    "We can download the dataset (https://archive.ics.uci.edu/ml/datasets/HTRU2) and import into JupyterHub."
   ]
  },
  {
   "cell_type": "code",
   "execution_count": null,
   "id": "3e395eb3-3a80-4880-823c-15ebb20ffe21",
   "metadata": {},
   "outputs": [],
   "source": [
    "# Downloading from url \n",
    "url <- \"https://archive.ics.uci.edu/ml/machine-learning-databases/00372/HTRU2.zip\"\n",
    "dir.create(\"data\")\n",
    "file <- download.file(url, \"data/HTRU2.zip\")\n",
    "\n",
    "# Because the data we need is in a .zip file, we use the unzip() function in order to access \"HTRU_2.csv\"\n",
    "star_data <- read_csv(unzip(\"data/HTRU2.zip\", files = \"HTRU_2.csv\", exdir = \"data/\"), \n",
    "            col_names = c(\"mean_of_int_profiles\", \"sd_of_int_profiles\", \"excess_kurtosis_of_int_profiles\",\n",
    "            \"skewness_of_int_profiles\", \"mean_of_curve\", \"sd_of_curve\", \n",
    "            \"excess_kurtosis_of_curve\", \"skewness_of_curve\", \"true_pulsar\")) |>\n",
    "    mutate(true_pulsar = as_factor(true_pulsar))\n",
    "slice(star_data, 1:10)\n",
    "# Below is a snapshot of the star data we will be working with"
   ]
  },
  {
   "cell_type": "markdown",
   "id": "b54513df-0446-402f-8d70-1729ea6f9d92",
   "metadata": {},
   "source": [
    "The first step is to split our data into a training and a testing set:"
   ]
  },
  {
   "cell_type": "code",
   "execution_count": null,
   "id": "1609615d-ea1a-4db4-b91c-670027f08149",
   "metadata": {},
   "outputs": [],
   "source": [
    "# DO NOT REMOVE\n",
    "set.seed(9999) \n",
    "\n",
    "# Splitting data into training and testing, with true_pulsar as the strata\n",
    "pulsar_split <- initial_split(star_data, prop = 0.75, strata = true_pulsar)  \n",
    "pulsar_train <- training(pulsar_split)   \n",
    "pulsar_test <- testing(pulsar_split)"
   ]
  },
  {
   "cell_type": "markdown",
   "id": "c3c1eebf-a3e2-4d3c-8001-661df3f9f460",
   "metadata": {},
   "source": [
    "#### Preliminary Exploratory Data Analysis\n",
    "\n",
    "Before we begin classification, we will first take a closer look at our training data."
   ]
  },
  {
   "cell_type": "code",
   "execution_count": null,
   "id": "42407232-42f5-434c-9b5f-ce961a34b8d6",
   "metadata": {},
   "outputs": [],
   "source": [
    "# Summarizing data into table counting the number of true and false pulsars\n",
    "pulsar_frequency <- pulsar_train |>\n",
    "    group_by(true_pulsar) |>\n",
    "    summarize(number = n())\n",
    "pulsar_frequency"
   ]
  },
  {
   "cell_type": "code",
   "execution_count": null,
   "id": "09fca64f-3eed-4300-bc2a-1e1f063321c6",
   "metadata": {},
   "outputs": [],
   "source": [
    "# Creating another table that shows the average of our intended predictor variables\n",
    "pulsar_predictors <- pulsar_train |>\n",
    "    group_by(true_pulsar) |>\n",
    "    summarize(avg_mean_of_int_profiles = mean(mean_of_int_profiles),\n",
    "              avg_mean_of_curve = mean(mean_of_curve))\n",
    "\n",
    "pulsar_predictors"
   ]
  },
  {
   "cell_type": "code",
   "execution_count": 6,
   "id": "d827e14d-b1d7-4ec7-8f87-1a9e117ea891",
   "metadata": {},
   "outputs": [
    {
     "data": {
      "text/plain": [
       "K-Nearest Neighbor Model Specification (classification)\n",
       "\n",
       "Main Arguments:\n",
       "  neighbors = tune()\n",
       "  weight_func = rectangular\n",
       "\n",
       "Computational engine: kknn \n"
      ]
     },
     "metadata": {},
     "output_type": "display_data"
    },
    {
     "data": {
      "text/html": [
       "<table class=\"dataframe\">\n",
       "<caption>A tibble: 20 × 7</caption>\n",
       "<thead>\n",
       "\t<tr><th scope=col>neighbors</th><th scope=col>.metric</th><th scope=col>.estimator</th><th scope=col>mean</th><th scope=col>n</th><th scope=col>std_err</th><th scope=col>.config</th></tr>\n",
       "\t<tr><th scope=col>&lt;dbl&gt;</th><th scope=col>&lt;chr&gt;</th><th scope=col>&lt;chr&gt;</th><th scope=col>&lt;dbl&gt;</th><th scope=col>&lt;int&gt;</th><th scope=col>&lt;dbl&gt;</th><th scope=col>&lt;chr&gt;</th></tr>\n",
       "</thead>\n",
       "<tbody>\n",
       "\t<tr><td> 1</td><td>accuracy</td><td>binary</td><td>0.9708707</td><td>3</td><td>0.001809886</td><td>Preprocessor1_Model01</td></tr>\n",
       "\t<tr><td> 6</td><td>accuracy</td><td>binary</td><td>0.9784695</td><td>3</td><td>0.002099335</td><td>Preprocessor1_Model02</td></tr>\n",
       "\t<tr><td>11</td><td>accuracy</td><td>binary</td><td>0.9785441</td><td>3</td><td>0.001397186</td><td>Preprocessor1_Model03</td></tr>\n",
       "\t<tr><td>16</td><td>accuracy</td><td>binary</td><td>0.9783950</td><td>3</td><td>0.001645533</td><td>Preprocessor1_Model04</td></tr>\n",
       "\t<tr><td>21</td><td>accuracy</td><td>binary</td><td>0.9783206</td><td>3</td><td>0.001522761</td><td>Preprocessor1_Model05</td></tr>\n",
       "\t<tr><td>26</td><td>accuracy</td><td>binary</td><td>0.9782461</td><td>3</td><td>0.001665636</td><td>Preprocessor1_Model06</td></tr>\n",
       "\t<tr><td>31</td><td>accuracy</td><td>binary</td><td>0.9779481</td><td>3</td><td>0.001594082</td><td>Preprocessor1_Model07</td></tr>\n",
       "\t<tr><td>36</td><td>accuracy</td><td>binary</td><td>0.9777991</td><td>3</td><td>0.001614906</td><td>Preprocessor1_Model08</td></tr>\n",
       "\t<tr><td>41</td><td>accuracy</td><td>binary</td><td>0.9780226</td><td>3</td><td>0.001809414</td><td>Preprocessor1_Model09</td></tr>\n",
       "\t<tr><td>46</td><td>accuracy</td><td>binary</td><td>0.9779481</td><td>3</td><td>0.001814038</td><td>Preprocessor1_Model10</td></tr>\n",
       "\t<tr><td>51</td><td>accuracy</td><td>binary</td><td>0.9773521</td><td>3</td><td>0.001753370</td><td>Preprocessor1_Model11</td></tr>\n",
       "\t<tr><td>56</td><td>accuracy</td><td>binary</td><td>0.9773521</td><td>3</td><td>0.001809458</td><td>Preprocessor1_Model12</td></tr>\n",
       "\t<tr><td>61</td><td>accuracy</td><td>binary</td><td>0.9769796</td><td>3</td><td>0.001875807</td><td>Preprocessor1_Model13</td></tr>\n",
       "\t<tr><td>66</td><td>accuracy</td><td>binary</td><td>0.9772031</td><td>3</td><td>0.001936939</td><td>Preprocessor1_Model14</td></tr>\n",
       "\t<tr><td>71</td><td>accuracy</td><td>binary</td><td>0.9767561</td><td>3</td><td>0.001875747</td><td>Preprocessor1_Model15</td></tr>\n",
       "\t<tr><td>76</td><td>accuracy</td><td>binary</td><td>0.9765326</td><td>3</td><td>0.001875761</td><td>Preprocessor1_Model16</td></tr>\n",
       "\t<tr><td>81</td><td>accuracy</td><td>binary</td><td>0.9765326</td><td>3</td><td>0.001746972</td><td>Preprocessor1_Model17</td></tr>\n",
       "\t<tr><td>86</td><td>accuracy</td><td>binary</td><td>0.9763091</td><td>3</td><td>0.001807966</td><td>Preprocessor1_Model18</td></tr>\n",
       "\t<tr><td>91</td><td>accuracy</td><td>binary</td><td>0.9760856</td><td>3</td><td>0.001693672</td><td>Preprocessor1_Model19</td></tr>\n",
       "\t<tr><td>96</td><td>accuracy</td><td>binary</td><td>0.9754151</td><td>3</td><td>0.001821702</td><td>Preprocessor1_Model20</td></tr>\n",
       "</tbody>\n",
       "</table>\n"
      ],
      "text/latex": [
       "A tibble: 20 × 7\n",
       "\\begin{tabular}{lllllll}\n",
       " neighbors & .metric & .estimator & mean & n & std\\_err & .config\\\\\n",
       " <dbl> & <chr> & <chr> & <dbl> & <int> & <dbl> & <chr>\\\\\n",
       "\\hline\n",
       "\t  1 & accuracy & binary & 0.9708707 & 3 & 0.001809886 & Preprocessor1\\_Model01\\\\\n",
       "\t  6 & accuracy & binary & 0.9784695 & 3 & 0.002099335 & Preprocessor1\\_Model02\\\\\n",
       "\t 11 & accuracy & binary & 0.9785441 & 3 & 0.001397186 & Preprocessor1\\_Model03\\\\\n",
       "\t 16 & accuracy & binary & 0.9783950 & 3 & 0.001645533 & Preprocessor1\\_Model04\\\\\n",
       "\t 21 & accuracy & binary & 0.9783206 & 3 & 0.001522761 & Preprocessor1\\_Model05\\\\\n",
       "\t 26 & accuracy & binary & 0.9782461 & 3 & 0.001665636 & Preprocessor1\\_Model06\\\\\n",
       "\t 31 & accuracy & binary & 0.9779481 & 3 & 0.001594082 & Preprocessor1\\_Model07\\\\\n",
       "\t 36 & accuracy & binary & 0.9777991 & 3 & 0.001614906 & Preprocessor1\\_Model08\\\\\n",
       "\t 41 & accuracy & binary & 0.9780226 & 3 & 0.001809414 & Preprocessor1\\_Model09\\\\\n",
       "\t 46 & accuracy & binary & 0.9779481 & 3 & 0.001814038 & Preprocessor1\\_Model10\\\\\n",
       "\t 51 & accuracy & binary & 0.9773521 & 3 & 0.001753370 & Preprocessor1\\_Model11\\\\\n",
       "\t 56 & accuracy & binary & 0.9773521 & 3 & 0.001809458 & Preprocessor1\\_Model12\\\\\n",
       "\t 61 & accuracy & binary & 0.9769796 & 3 & 0.001875807 & Preprocessor1\\_Model13\\\\\n",
       "\t 66 & accuracy & binary & 0.9772031 & 3 & 0.001936939 & Preprocessor1\\_Model14\\\\\n",
       "\t 71 & accuracy & binary & 0.9767561 & 3 & 0.001875747 & Preprocessor1\\_Model15\\\\\n",
       "\t 76 & accuracy & binary & 0.9765326 & 3 & 0.001875761 & Preprocessor1\\_Model16\\\\\n",
       "\t 81 & accuracy & binary & 0.9765326 & 3 & 0.001746972 & Preprocessor1\\_Model17\\\\\n",
       "\t 86 & accuracy & binary & 0.9763091 & 3 & 0.001807966 & Preprocessor1\\_Model18\\\\\n",
       "\t 91 & accuracy & binary & 0.9760856 & 3 & 0.001693672 & Preprocessor1\\_Model19\\\\\n",
       "\t 96 & accuracy & binary & 0.9754151 & 3 & 0.001821702 & Preprocessor1\\_Model20\\\\\n",
       "\\end{tabular}\n"
      ],
      "text/markdown": [
       "\n",
       "A tibble: 20 × 7\n",
       "\n",
       "| neighbors &lt;dbl&gt; | .metric &lt;chr&gt; | .estimator &lt;chr&gt; | mean &lt;dbl&gt; | n &lt;int&gt; | std_err &lt;dbl&gt; | .config &lt;chr&gt; |\n",
       "|---|---|---|---|---|---|---|\n",
       "|  1 | accuracy | binary | 0.9708707 | 3 | 0.001809886 | Preprocessor1_Model01 |\n",
       "|  6 | accuracy | binary | 0.9784695 | 3 | 0.002099335 | Preprocessor1_Model02 |\n",
       "| 11 | accuracy | binary | 0.9785441 | 3 | 0.001397186 | Preprocessor1_Model03 |\n",
       "| 16 | accuracy | binary | 0.9783950 | 3 | 0.001645533 | Preprocessor1_Model04 |\n",
       "| 21 | accuracy | binary | 0.9783206 | 3 | 0.001522761 | Preprocessor1_Model05 |\n",
       "| 26 | accuracy | binary | 0.9782461 | 3 | 0.001665636 | Preprocessor1_Model06 |\n",
       "| 31 | accuracy | binary | 0.9779481 | 3 | 0.001594082 | Preprocessor1_Model07 |\n",
       "| 36 | accuracy | binary | 0.9777991 | 3 | 0.001614906 | Preprocessor1_Model08 |\n",
       "| 41 | accuracy | binary | 0.9780226 | 3 | 0.001809414 | Preprocessor1_Model09 |\n",
       "| 46 | accuracy | binary | 0.9779481 | 3 | 0.001814038 | Preprocessor1_Model10 |\n",
       "| 51 | accuracy | binary | 0.9773521 | 3 | 0.001753370 | Preprocessor1_Model11 |\n",
       "| 56 | accuracy | binary | 0.9773521 | 3 | 0.001809458 | Preprocessor1_Model12 |\n",
       "| 61 | accuracy | binary | 0.9769796 | 3 | 0.001875807 | Preprocessor1_Model13 |\n",
       "| 66 | accuracy | binary | 0.9772031 | 3 | 0.001936939 | Preprocessor1_Model14 |\n",
       "| 71 | accuracy | binary | 0.9767561 | 3 | 0.001875747 | Preprocessor1_Model15 |\n",
       "| 76 | accuracy | binary | 0.9765326 | 3 | 0.001875761 | Preprocessor1_Model16 |\n",
       "| 81 | accuracy | binary | 0.9765326 | 3 | 0.001746972 | Preprocessor1_Model17 |\n",
       "| 86 | accuracy | binary | 0.9763091 | 3 | 0.001807966 | Preprocessor1_Model18 |\n",
       "| 91 | accuracy | binary | 0.9760856 | 3 | 0.001693672 | Preprocessor1_Model19 |\n",
       "| 96 | accuracy | binary | 0.9754151 | 3 | 0.001821702 | Preprocessor1_Model20 |\n",
       "\n"
      ],
      "text/plain": [
       "   neighbors .metric  .estimator mean      n std_err     .config              \n",
       "1   1        accuracy binary     0.9708707 3 0.001809886 Preprocessor1_Model01\n",
       "2   6        accuracy binary     0.9784695 3 0.002099335 Preprocessor1_Model02\n",
       "3  11        accuracy binary     0.9785441 3 0.001397186 Preprocessor1_Model03\n",
       "4  16        accuracy binary     0.9783950 3 0.001645533 Preprocessor1_Model04\n",
       "5  21        accuracy binary     0.9783206 3 0.001522761 Preprocessor1_Model05\n",
       "6  26        accuracy binary     0.9782461 3 0.001665636 Preprocessor1_Model06\n",
       "7  31        accuracy binary     0.9779481 3 0.001594082 Preprocessor1_Model07\n",
       "8  36        accuracy binary     0.9777991 3 0.001614906 Preprocessor1_Model08\n",
       "9  41        accuracy binary     0.9780226 3 0.001809414 Preprocessor1_Model09\n",
       "10 46        accuracy binary     0.9779481 3 0.001814038 Preprocessor1_Model10\n",
       "11 51        accuracy binary     0.9773521 3 0.001753370 Preprocessor1_Model11\n",
       "12 56        accuracy binary     0.9773521 3 0.001809458 Preprocessor1_Model12\n",
       "13 61        accuracy binary     0.9769796 3 0.001875807 Preprocessor1_Model13\n",
       "14 66        accuracy binary     0.9772031 3 0.001936939 Preprocessor1_Model14\n",
       "15 71        accuracy binary     0.9767561 3 0.001875747 Preprocessor1_Model15\n",
       "16 76        accuracy binary     0.9765326 3 0.001875761 Preprocessor1_Model16\n",
       "17 81        accuracy binary     0.9765326 3 0.001746972 Preprocessor1_Model17\n",
       "18 86        accuracy binary     0.9763091 3 0.001807966 Preprocessor1_Model18\n",
       "19 91        accuracy binary     0.9760856 3 0.001693672 Preprocessor1_Model19\n",
       "20 96        accuracy binary     0.9754151 3 0.001821702 Preprocessor1_Model20"
      ]
     },
     "metadata": {},
     "output_type": "display_data"
    },
    {
     "data": {
      "image/png": "[encoded data removed]",
      "text/plain": [
       "plot without title"
      ]
     },
     "metadata": {
      "image/png": {
       "height": 420,
       "width": 420
      }
     },
     "output_type": "display_data"
    }
   ],
   "source": [
    "# visualisations \n",
    "# finding optimal value of k\n",
    "pulsar_recipe <- recipe(true_pulsar ~., data = pulsar_train)\n",
    "\n",
    "knn_spec <- nearest_neighbor(weight_func = \"rectangular\", neighbors = tune()) |>\n",
    "    set_engine(\"kknn\") |> \n",
    "    set_mode(\"classification\") \n",
    "\n",
    "knn_spec\n",
    "pulsar_vfold <- vfold_cv(pulsar_train, v = 3, strata = true_pulsar)  # note: value of v, wouldn't run above 5\n",
    "\n",
    "\n",
    "k_vals <- tibble(neighbors = seq(from = 1, to = 100, by = 5))\n",
    "\n",
    "knn_results <- workflow() |>\n",
    "  add_recipe(pulsar_recipe) |>\n",
    "  add_model(knn_spec) |>\n",
    "  tune_grid(resamples = pulsar_vfold, grid = k_vals) |>\n",
    "  collect_metrics() \n",
    "\n",
    "\n",
    "# max_accuracy <- knn_results |> summarise(max_acc = max(accuracy))\n",
    "# max_accuracy\n",
    "\n",
    "accuracies <- knn_results |> \n",
    "      filter(.metric == \"accuracy\")\n",
    "accuracies\n",
    "accuracy_versus_k <- ggplot(knn_results, aes(x = neighbors, y = mean))+\n",
    "      geom_point() +\n",
    "      geom_line() +\n",
    "      labs(x = \"Neighbors\", y = \"Accuracy Estimate\") +\n",
    "      scale_x_continuous(breaks = seq(0, 100, by = 5)) +  # adjusting the x-axis\n",
    "      scale_y_continuous(limits = c(0.9, 1.0)) # adjusting the y-axis\n",
    "\n",
    "accuracy_versus_k # the highest accuracy was associated with a k-value of 26\n",
    "# Through this summary table, we found that the number of neighbors k did not have a significant impact of the accuracy of our results as from a range of roughly\n",
    "# 1 - 36 the accuracy remains around 0.978\n"
   ]
  },
  {
   "cell_type": "code",
   "execution_count": 7,
   "id": "74d3d208-5c2c-481d-9d2a-d09b4a82a137",
   "metadata": {},
   "outputs": [
    {
     "data": {
      "text/html": [
       "<table class=\"dataframe\">\n",
       "<caption>A tibble: 2 × 3</caption>\n",
       "<thead>\n",
       "\t<tr><th scope=col>.metric</th><th scope=col>.estimator</th><th scope=col>.estimate</th></tr>\n",
       "\t<tr><th scope=col>&lt;chr&gt;</th><th scope=col>&lt;chr&gt;</th><th scope=col>&lt;dbl&gt;</th></tr>\n",
       "</thead>\n",
       "<tbody>\n",
       "\t<tr><td>accuracy</td><td>binary</td><td>0.9747486</td></tr>\n",
       "\t<tr><td>kap     </td><td>binary</td><td>0.8404978</td></tr>\n",
       "</tbody>\n",
       "</table>\n"
      ],
      "text/latex": [
       "A tibble: 2 × 3\n",
       "\\begin{tabular}{lll}\n",
       " .metric & .estimator & .estimate\\\\\n",
       " <chr> & <chr> & <dbl>\\\\\n",
       "\\hline\n",
       "\t accuracy & binary & 0.9747486\\\\\n",
       "\t kap      & binary & 0.8404978\\\\\n",
       "\\end{tabular}\n"
      ],
      "text/markdown": [
       "\n",
       "A tibble: 2 × 3\n",
       "\n",
       "| .metric &lt;chr&gt; | .estimator &lt;chr&gt; | .estimate &lt;dbl&gt; |\n",
       "|---|---|---|\n",
       "| accuracy | binary | 0.9747486 |\n",
       "| kap      | binary | 0.8404978 |\n",
       "\n"
      ],
      "text/plain": [
       "  .metric  .estimator .estimate\n",
       "1 accuracy binary     0.9747486\n",
       "2 kap      binary     0.8404978"
      ]
     },
     "metadata": {},
     "output_type": "display_data"
    }
   ],
   "source": [
    "\n",
    "\n",
    "pulsar_training_model <- nearest_neighbor(weight_func = \"rectangular\", neighbors = 26) |> set_engine(\"kknn\") |> set_mode(\"classification\") \n",
    "\n",
    "\n",
    "pulsar_fit <- workflow() |>\n",
    "      add_recipe(pulsar_recipe) |>\n",
    "      add_model(pulsar_training_model) |>\n",
    "      fit(data = pulsar_train)\n",
    "\n",
    "pulsar_test_predictions <- predict(pulsar_fit, pulsar_test) |> bind_cols(pulsar_test) # prediction set\n",
    "\n",
    "pulsar_prediction_accuracy <- pulsar_test_predictions |> metrics(truth = true_pulsar, estimate = .pred_class) # accuracy of predictions\n",
    "\n",
    "pulsar_prediction_accuracy"
   ]
  },
  {
   "cell_type": "code",
   "execution_count": 8,
   "id": "3db5b7e4-cfd4-4b6a-bc13-c91f1db08f19",
   "metadata": {},
   "outputs": [
    {
     "data": {
      "text/plain": [
       "          Truth\n",
       "Prediction    0    1\n",
       "         0 4031   92\n",
       "         1   21  331"
      ]
     },
     "metadata": {},
     "output_type": "display_data"
    }
   ],
   "source": [
    "pulsar_mat <- pulsar_test_predictions |> \n",
    "      conf_mat(truth = true_pulsar, estimate = .pred_class)\n",
    "pulsar_mat # using this matrix we find that 4,362 our of 4,475 of our observations were labelled correctly"
   ]
  },
  {
   "cell_type": "code",
   "execution_count": 9,
   "id": "7612a0b5-faa3-44f9-a920-1239230237c9",
   "metadata": {},
   "outputs": [
    {
     "ename": "ERROR",
     "evalue": "Error in parse(text = x, srcfile = src): The pipe operator requires a function call as RHS\n",
     "output_type": "error",
     "traceback": [
      "Error in parse(text = x, srcfile = src): The pipe operator requires a function call as RHS\nTraceback:\n"
     ]
    }
   ],
   "source": [
    "pulsar_predictions_with_labels <- pulsar_test_predictions |>\n",
    "      select(.pred_class) |>\n",
    "      bind_cols(pulsar_test |> select(-X)) |>\n",
    "      mutate(seq = 1:nrow(pulsar_test)) |>\n",
    "      as.data.frame()\n",
    "\n",
    "matching <- pulsar_predictions_with_labels |>\n",
    "         filter(.pred_class == true_pulsar) |>\n",
    "         sample_n(3) |>\n",
    "\n",
    "matching1 <- matching |>\n",
    "         slice(1) |>\n",
    "         select(seq) |>\n",
    "         pull()\n",
    "\n",
    "matching2 <- matching |>\n",
    "         slice(1) |>\n",
    "         select(seq) |>\n",
    "         pull()\n",
    "\n",
    "matching3 <- matching |>\n",
    "         slice(2) |>\n",
    "         select(seq) |>\n",
    "         pull()\n",
    "\n",
    "show_digit(slice(pulsar_test, matching_1))\n",
    "show_digit(slice(pulsar_test, matching_2))\n",
    "show_digit(slice(pulsar_test, matching_3))"
   ]
  },
  {
   "cell_type": "code",
   "execution_count": null,
   "id": "7c951526-a9ec-4574-9b7e-7421db20d0fb",
   "metadata": {},
   "outputs": [],
   "source": [
    "Description of Methodology: We used cross-validation to determin the most accurate k number of neighbors. We then used this value to determine the accuracy of our \n",
    "test set.\n",
    "\n",
    "We used a K nearest neighbour classifier, this is a type of supervised learning method. The knn algorithmn uses proximity to make classifications or predictions \n",
    "about the grouping of a particular datapoint. We used cross-validation to determine the most accurate k number of neighbors, which was 21. We subsequently used this\n",
    "value to determine the accuracy of the our test set, which was 0.9747486. \n",
    "\n",
    "K nearest neighbour classifier:\n",
    "k-NN is a type of instance-based learning, or lazy learning, where the function is only\n",
    "approximated locally and all computation is deferred until classification. The k-NN algorithm\n",
    "is among the simplest of all machine learning algorithms.\n",
    "The neighbours are taken from a set of objects for which the class (for k-NN classification) or\n",
    "the object property value (for k-NN regression) is known. This can be thought of as the\n",
    "training set for the algorithm, though no explicit training step is required."
   ]
  },
  {
   "cell_type": "markdown",
   "id": "e65b7428-2d0c-464b-a46b-cc7ac8b932a4",
   "metadata": {},
   "source": [
    "## Predictor variable selection"
   ]
  },
  {
   "cell_type": "code",
   "execution_count": null,
   "id": "72973dff-af23-421d-bbea-ef97657a057c",
   "metadata": {},
   "outputs": [],
   "source": [
    "# create an empty tibble to store the results\n",
    "\n",
    "star_data_true <- star_data\n",
    "\n",
    "star_data <- rep_sample_n(star_data, size = 20)\n",
    "\n",
    "accuracies <- tibble(size = integer(), \n",
    "                     model_string = character(), \n",
    "                     accuracy = numeric())\n",
    "\n",
    "# create a model specification\n",
    "knn_spec <- nearest_neighbor(weight_func = \"rectangular\", \n",
    "                             neighbors = tune()) |>\n",
    "     set_engine(\"kknn\") |>\n",
    "     set_mode(\"classification\")\n",
    "\n",
    "# create a 5-fold cross-validation object\n",
    "star_vfold <- vfold_cv(star_data, v = 5, strata = true_pulsar)\n",
    "\n",
    "# store the total number of predictors\n",
    "n_total <- length(names)\n",
    "\n",
    "# stores selected predictors\n",
    "selected <- c()\n",
    "\n",
    "# for every size from 1 to the total number of predictors\n",
    "for (i in 1:n_total) {\n",
    "    # for every predictor still not added yet\n",
    "    accs <- list()\n",
    "    models <- list()\n",
    "    for (j in 1:length(names)) {\n",
    "        # create a model string for this combination of predictors\n",
    "        preds_new <- c(selected, names[[j]])\n",
    "        model_string <- paste(\"true_pulsar\", \"~\", paste(preds_new, collapse=\"+\"))\n",
    "\n",
    "        # create a recipe from the model string\n",
    "        star_recipe <- recipe(as.formula(model_string), \n",
    "                                data = star_data) |>\n",
    "                          step_scale(all_predictors()) |>\n",
    "                          step_center(all_predictors())\n",
    "\n",
    "        # tune the KNN classifier with these predictors, \n",
    "        # and collect the accuracy for the best K\n",
    "        acc <- workflow() |>\n",
    "          add_recipe(star_recipe) |>\n",
    "          add_model(knn_spec) |>\n",
    "          tune_grid(resamples = star_vfold, grid = 10) |>\n",
    "          collect_metrics() |>\n",
    "          filter(.metric == \"accuracy\") |>\n",
    "          summarize(mx = max(mean))\n",
    "        acc <- acc$mx |> unlist()\n",
    "\n",
    "        # add this result to the dataframe\n",
    "        accs[[j]] <- acc\n",
    "        models[[j]] <- model_string\n",
    "    }\n",
    "    jstar <- which.max(unlist(accs))\n",
    "    accuracies <- accuracies |> \n",
    "      add_row(size = i, \n",
    "              model_string = models[[jstar]], \n",
    "              accuracy = accs[[jstar]])\n",
    "    selected <- c(selected, names[[jstar]])\n",
    "    names <- names[-jstar]\n",
    "}\n",
    "accuracies"
   ]
  },
  {
   "cell_type": "markdown",
   "id": "87a7e623-7909-4aaf-9788-a9e805744f71",
   "metadata": {},
   "source": [
    "### Discussion"
   ]
  },
  {
   "cell_type": "markdown",
   "id": "6de262e5-5b00-48cd-91a8-9a0a487e48ae",
   "metadata": {},
   "source": [
    "__What did we find?__\n",
    "\n",
    "__Is this what we expected to find?__\n",
    "\n",
    "__What are the impacts of this finding?__\n",
    "With the ability to confidently classify whether a star is pulsar or not, scientists could make enourmous strides in astronomy. By weeding out the fake pulsars and focusing only on the real ones, scientists can more accurately study what is happening inside real pulsars. Since neutron stars (which pulsars are) are the densest material in the universe, studying them can lead to enourmous discoveries related to the physics of the universe. Also, by weeding out the fake pulsars, scientists can focus in on the real pulsars and calculate cosmic distances.  This is because pulsar stars blink at regular intervals rivaled only by atomic clocks (https://www.space.com/32661-pulsars.html).  Overall, the ability to accurately predict whether a \"pulsar event\" in data is real or just interference is a major step in studying the universe beyond our own planet.\n",
    "\n",
    "__What future questions are there?__\n",
    "One big question is can this be applied to universes outside our own? If there are pulsar stars in our universe, there are likely stars like this in others.  Would the same algorithm for finding these stars apply outside our own universe?\n",
    "\n",
    "Also, we must question if there are more accurate predictor variables that would work better? This also brings up, can we tune equipement in the field to also track in real time whether a reading is real or interference and filter it right away so scientists don't need to study it?\n",
    "\n",
    "Given that this is just a predictive algorithm to determine if it is pulsar or interference, we must question the validity of the data and if the scientists behind it accurately classified the pulsars."
   ]
  },
  {
   "cell_type": "markdown",
   "id": "814325b7-bf64-47ca-95cd-5534de2c740a",
   "metadata": {},
   "source": [
    "### References"
   ]
  },
  {
   "cell_type": "markdown",
   "id": "b2aa82b3-d620-4151-86ee-c459251d28de",
   "metadata": {},
   "source": []
  },
  {
   "cell_type": "code",
   "execution_count": null,
   "id": "efa509b1-71a4-417f-b079-64ac1c3507b6",
   "metadata": {},
   "outputs": [],
   "source": []
  }
 ],
 "metadata": {
  "kernelspec": {
   "display_name": "R",
   "language": "R",
   "name": "ir"
  },
  "language_info": {
   "codemirror_mode": "r",
   "file_extension": ".r",
   "mimetype": "text/x-r-source",
   "name": "R",
   "pygments_lexer": "r",
   "version": "4.1.3"
  }
 },
 "nbformat": 4,
 "nbformat_minor": 5
}
