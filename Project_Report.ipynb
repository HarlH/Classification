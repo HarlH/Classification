{
 "cells": [
  {
   "cell_type": "markdown",
   "id": "dd4a3e8c-22d6-44ed-a882-067fa9121509",
   "metadata": {},
   "source": [
    "# The Classification of Pulsar Stars - Project Report\n",
    "**By Oliver Gullery, Chan Le, Simon Lin, and Adam Parolin**"
   ]
  },
  {
   "cell_type": "markdown",
   "id": "da135ffa-db66-40f1-a75b-5bde5dd14b3e",
   "metadata": {},
   "source": [
    "### Introduction"
   ]
  },
  {
   "cell_type": "markdown",
   "id": "69253e97-554c-439b-8c46-e9f308b40b47",
   "metadata": {},
   "source": [
    "Pulsar stars are a rare type of neutron star that produces detectable radio emissions. Pulsars each produce different emission patterns which can be measured with scientific equipment. However, some positive detections are caused by radio frequency interference, which makes real detections difficult to find. The main objective of our data analysis is determining if scientific equipment analyzed a real pulsar star or radio frequency interference.<br/> \n",
    "\n",
    "This leads into our question: \n",
    "__Using pulsar star candidate data recorded by scientific equipment, is a given candidate a true pulsar star or just radio frequency interference?__\n",
    "\n",
    "Each observation in the data set (the <a href=\"https://archive.ics.uci.edu/ml/datasets/HTRU2\">HTRU2 Data Set</a> by Rob Lyon) is a candidate, with 8 continuous variables:<br />\n",
    "1. `mean_of_int_profiles` <br/>\n",
    "2. `sd_of_int_profiles`<br />\n",
    "3. `excess_kurtosis_of_int_profiles`<br />\n",
    "4. `skewness_of_int_profiles`<br />\n",
    "5. `mean_of_curve`<br />\n",
    "6. `sd_of_curve`<br />\n",
    "7. `excess_kurtosis_of_curve`<br />\n",
    "8. `skewness_of_curve`<br />\n",
    "\n",
    "... and one class variable:<br />\n",
    "1. `true_pulsar`\n"
   ]
  },
  {
   "cell_type": "markdown",
   "id": "22e0d2ef-d10f-4d94-8c9b-dacd87e3402e",
   "metadata": {},
   "source": [
    "### Method and Results"
   ]
  },
  {
   "cell_type": "markdown",
   "id": "319f67a3-015a-401a-995e-2b5ec2b43611",
   "metadata": {},
   "source": []
  },
  {
   "cell_type": "markdown",
   "id": "87a7e623-7909-4aaf-9788-a9e805744f71",
   "metadata": {},
   "source": [
    "### Discussion"
   ]
  },
  {
   "cell_type": "markdown",
   "id": "6de262e5-5b00-48cd-91a8-9a0a487e48ae",
   "metadata": {},
   "source": []
  },
  {
   "cell_type": "markdown",
   "id": "814325b7-bf64-47ca-95cd-5534de2c740a",
   "metadata": {},
   "source": [
    "### References"
   ]
  },
  {
   "cell_type": "markdown",
   "id": "b2aa82b3-d620-4151-86ee-c459251d28de",
   "metadata": {},
   "source": []
  },
  {
   "cell_type": "code",
   "execution_count": null,
   "id": "efa509b1-71a4-417f-b079-64ac1c3507b6",
   "metadata": {},
   "outputs": [],
   "source": []
  }
 ],
 "metadata": {
  "kernelspec": {
   "display_name": "R",
   "language": "R",
   "name": "ir"
  },
  "language_info": {
   "codemirror_mode": "r",
   "file_extension": ".r",
   "mimetype": "text/x-r-source",
   "name": "R",
   "pygments_lexer": "r",
   "version": "4.1.3"
  }
 },
 "nbformat": 4,
 "nbformat_minor": 5
}
