{
 "cells": [
  {
   "cell_type": "markdown",
   "id": "dd4a3e8c-22d6-44ed-a882-067fa9121509",
   "metadata": {},
   "source": [
    "# The Classification of Pulsar Stars - Project Report\n",
    "**By Oliver Gullery, Chan Le, Simon Lin, and Adam Parolin**"
   ]
  },
  {
   "cell_type": "markdown",
   "id": "da135ffa-db66-40f1-a75b-5bde5dd14b3e",
   "metadata": {},
   "source": []
  }
 ],
 "metadata": {
  "kernelspec": {
   "display_name": "R",
   "language": "R",
   "name": "ir"
  },
  "language_info": {
   "codemirror_mode": "r",
   "file_extension": ".r",
   "mimetype": "text/x-r-source",
   "name": "R",
   "pygments_lexer": "r",
   "version": "4.1.3"
  }
 },
 "nbformat": 4,
 "nbformat_minor": 5
}
