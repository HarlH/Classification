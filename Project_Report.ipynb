{
 "cells": [
  {
   "cell_type": "markdown",
   "id": "dd4a3e8c-22d6-44ed-a882-067fa9121509",
   "metadata": {},
   "source": [
    "# The Classification of Pulsar Stars - Project Report\n",
    "**By Oliver Gullery, Chan Le, Simon Lin, and Adam Parolin**"
   ]
  },
  {
   "cell_type": "markdown",
   "id": "da135ffa-db66-40f1-a75b-5bde5dd14b3e",
   "metadata": {},
   "source": [
    "### Introduction"
   ]
  },
  {
   "cell_type": "markdown",
   "id": "69253e97-554c-439b-8c46-e9f308b40b47",
   "metadata": {},
   "source": [
    "Pulsar stars are a rare type of neutron star that produce detectable radio emissions. Pulsars rotate and emit beams of electromagnetic radiation, which can be detected if they align directly with Earth. \n",
    "\n",
    "These beams take the form of radio waves - electromagnetic waves oscillating at specific frequencies that can be detected.\n",
    "\n",
    "Using scientific equipment, we can scan for radio waves and discover new pulsar stars. However, some positive detections are caused by radio frequency interference, which makes real detections difficult to find. The main objective of our data analysis is determining if scientific equipment analyzed a real pulsar star or radio frequency interference.<br/> \n",
    "\n",
    "<img src=\"https://media.giphy.com/media/l3dj5M4YLaFww31V6/giphy.gif\" width = \"600\"/>\n",
    "\n",
    "Source: https://media.giphy.com/media/l3dj5M4YLaFww31V6/giphy.gif\n",
    "\n",
    "This leads into our question: \n",
    "__Using pulsar star candidate data recorded by scientific equipment, is a given candidate a true pulsar star or just radio frequency interference?__\n",
    "\n",
    "Each observation in the data set (the <a href=\"https://archive.ics.uci.edu/ml/datasets/HTRU2\">HTRU2 Data Set</a> by Rob Lyon) is a candidate, with 8 continuous variables:<br />\n",
    "1. `mean_of_int_profiles` <br/>\n",
    "2. `sd_of_int_profiles`<br />\n",
    "3. `excess_kurtosis_of_int_profiles`<br />\n",
    "4. `skewness_of_int_profiles`<br />\n",
    "5. `mean_of_curve`<br />\n",
    "6. `sd_of_curve`<br />\n",
    "7. `excess_kurtosis_of_curve`<br />\n",
    "8. `skewness_of_curve`<br />\n",
    "\n",
    "... and one class variable:<br />\n",
    "1. `true_pulsar`\n",
    "\n"
   ]
  },
  {
   "cell_type": "markdown",
   "id": "22e0d2ef-d10f-4d94-8c9b-dacd87e3402e",
   "metadata": {},
   "source": [
    "### Method and Results"
   ]
  },
  {
   "cell_type": "code",
   "execution_count": 6,
   "id": "faade234-aeb9-47fa-8854-4d63b2ef0920",
   "metadata": {},
   "outputs": [],
   "source": [
    "# Importing required libraries\n",
    "\n",
    "library(tidyverse)\n",
    "library(repr)\n",
    "library(tidymodels)"
   ]
  },
  {
   "cell_type": "markdown",
   "id": "92660ca6-e564-4923-8df2-d64ab729a8ed",
   "metadata": {},
   "source": [
    "We can download the dataset (https://archive.ics.uci.edu/ml/datasets/HTRU2) and import into JupyterHub."
   ]
  },
  {
   "cell_type": "code",
   "execution_count": 7,
   "id": "3e395eb3-3a80-4880-823c-15ebb20ffe21",
   "metadata": {},
   "outputs": [
    {
     "name": "stderr",
     "output_type": "stream",
     "text": [
      "Warning message in dir.create(\"data\"):\n",
      "“'data' already exists”\n",
      "\u001b[1mRows: \u001b[22m\u001b[34m17898\u001b[39m \u001b[1mColumns: \u001b[22m\u001b[34m9\u001b[39m\n",
      "\u001b[36m──\u001b[39m \u001b[1mColumn specification\u001b[22m \u001b[36m────────────────────────────────────────────────────────\u001b[39m\n",
      "\u001b[1mDelimiter:\u001b[22m \",\"\n",
      "\u001b[32mdbl\u001b[39m (9): mean_of_int_profiles, sd_of_int_profiles, excess_kurtosis_of_int_pr...\n",
      "\n",
      "\u001b[36mℹ\u001b[39m Use `spec()` to retrieve the full column specification for this data.\n",
      "\u001b[36mℹ\u001b[39m Specify the column types or set `show_col_types = FALSE` to quiet this message.\n"
     ]
    },
    {
     "data": {
      "text/html": [
       "<table class=\"dataframe\">\n",
       "<caption>A tibble: 10 × 9</caption>\n",
       "<thead>\n",
       "\t<tr><th scope=col>mean_of_int_profiles</th><th scope=col>sd_of_int_profiles</th><th scope=col>excess_kurtosis_of_int_profiles</th><th scope=col>skewness_of_int_profiles</th><th scope=col>mean_of_curve</th><th scope=col>sd_of_curve</th><th scope=col>excess_kurtosis_of_curve</th><th scope=col>skewness_of_curve</th><th scope=col>true_pulsar</th></tr>\n",
       "\t<tr><th scope=col>&lt;dbl&gt;</th><th scope=col>&lt;dbl&gt;</th><th scope=col>&lt;dbl&gt;</th><th scope=col>&lt;dbl&gt;</th><th scope=col>&lt;dbl&gt;</th><th scope=col>&lt;dbl&gt;</th><th scope=col>&lt;dbl&gt;</th><th scope=col>&lt;dbl&gt;</th><th scope=col>&lt;fct&gt;</th></tr>\n",
       "</thead>\n",
       "<tbody>\n",
       "\t<tr><td>140.56250</td><td>55.68378</td><td>-0.23457141</td><td>-0.6996484</td><td>3.1998328</td><td>19.110426</td><td> 7.975532</td><td> 74.24222</td><td>0</td></tr>\n",
       "\t<tr><td>102.50781</td><td>58.88243</td><td> 0.46531815</td><td>-0.5150879</td><td>1.6772575</td><td>14.860146</td><td>10.576487</td><td>127.39358</td><td>0</td></tr>\n",
       "\t<tr><td>103.01562</td><td>39.34165</td><td> 0.32332837</td><td> 1.0511644</td><td>3.1212375</td><td>21.744669</td><td> 7.735822</td><td> 63.17191</td><td>0</td></tr>\n",
       "\t<tr><td>136.75000</td><td>57.17845</td><td>-0.06841464</td><td>-0.6362384</td><td>3.6429766</td><td>20.959280</td><td> 6.896499</td><td> 53.59366</td><td>0</td></tr>\n",
       "\t<tr><td> 88.72656</td><td>40.67223</td><td> 0.60086608</td><td> 1.1234917</td><td>1.1789298</td><td>11.468720</td><td>14.269573</td><td>252.56731</td><td>0</td></tr>\n",
       "\t<tr><td> 93.57031</td><td>46.69811</td><td> 0.53190485</td><td> 0.4167211</td><td>1.6362876</td><td>14.545074</td><td>10.621748</td><td>131.39400</td><td>0</td></tr>\n",
       "\t<tr><td>119.48438</td><td>48.76506</td><td> 0.03146022</td><td>-0.1121676</td><td>0.9991639</td><td> 9.279612</td><td>19.206230</td><td>479.75657</td><td>0</td></tr>\n",
       "\t<tr><td>130.38281</td><td>39.84406</td><td>-0.15832276</td><td> 0.3895404</td><td>1.2207358</td><td>14.378941</td><td>13.539456</td><td>198.23646</td><td>0</td></tr>\n",
       "\t<tr><td>107.25000</td><td>52.62708</td><td> 0.45268802</td><td> 0.1703474</td><td>2.3319398</td><td>14.486853</td><td> 9.001004</td><td>107.97251</td><td>0</td></tr>\n",
       "\t<tr><td>107.25781</td><td>39.49649</td><td> 0.46588196</td><td> 1.1628771</td><td>4.0794314</td><td>24.980418</td><td> 7.397080</td><td> 57.78474</td><td>0</td></tr>\n",
       "</tbody>\n",
       "</table>\n"
      ],
      "text/latex": [
       "A tibble: 10 × 9\n",
       "\\begin{tabular}{lllllllll}\n",
       " mean\\_of\\_int\\_profiles & sd\\_of\\_int\\_profiles & excess\\_kurtosis\\_of\\_int\\_profiles & skewness\\_of\\_int\\_profiles & mean\\_of\\_curve & sd\\_of\\_curve & excess\\_kurtosis\\_of\\_curve & skewness\\_of\\_curve & true\\_pulsar\\\\\n",
       " <dbl> & <dbl> & <dbl> & <dbl> & <dbl> & <dbl> & <dbl> & <dbl> & <fct>\\\\\n",
       "\\hline\n",
       "\t 140.56250 & 55.68378 & -0.23457141 & -0.6996484 & 3.1998328 & 19.110426 &  7.975532 &  74.24222 & 0\\\\\n",
       "\t 102.50781 & 58.88243 &  0.46531815 & -0.5150879 & 1.6772575 & 14.860146 & 10.576487 & 127.39358 & 0\\\\\n",
       "\t 103.01562 & 39.34165 &  0.32332837 &  1.0511644 & 3.1212375 & 21.744669 &  7.735822 &  63.17191 & 0\\\\\n",
       "\t 136.75000 & 57.17845 & -0.06841464 & -0.6362384 & 3.6429766 & 20.959280 &  6.896499 &  53.59366 & 0\\\\\n",
       "\t  88.72656 & 40.67223 &  0.60086608 &  1.1234917 & 1.1789298 & 11.468720 & 14.269573 & 252.56731 & 0\\\\\n",
       "\t  93.57031 & 46.69811 &  0.53190485 &  0.4167211 & 1.6362876 & 14.545074 & 10.621748 & 131.39400 & 0\\\\\n",
       "\t 119.48438 & 48.76506 &  0.03146022 & -0.1121676 & 0.9991639 &  9.279612 & 19.206230 & 479.75657 & 0\\\\\n",
       "\t 130.38281 & 39.84406 & -0.15832276 &  0.3895404 & 1.2207358 & 14.378941 & 13.539456 & 198.23646 & 0\\\\\n",
       "\t 107.25000 & 52.62708 &  0.45268802 &  0.1703474 & 2.3319398 & 14.486853 &  9.001004 & 107.97251 & 0\\\\\n",
       "\t 107.25781 & 39.49649 &  0.46588196 &  1.1628771 & 4.0794314 & 24.980418 &  7.397080 &  57.78474 & 0\\\\\n",
       "\\end{tabular}\n"
      ],
      "text/markdown": [
       "\n",
       "A tibble: 10 × 9\n",
       "\n",
       "| mean_of_int_profiles &lt;dbl&gt; | sd_of_int_profiles &lt;dbl&gt; | excess_kurtosis_of_int_profiles &lt;dbl&gt; | skewness_of_int_profiles &lt;dbl&gt; | mean_of_curve &lt;dbl&gt; | sd_of_curve &lt;dbl&gt; | excess_kurtosis_of_curve &lt;dbl&gt; | skewness_of_curve &lt;dbl&gt; | true_pulsar &lt;fct&gt; |\n",
       "|---|---|---|---|---|---|---|---|---|\n",
       "| 140.56250 | 55.68378 | -0.23457141 | -0.6996484 | 3.1998328 | 19.110426 |  7.975532 |  74.24222 | 0 |\n",
       "| 102.50781 | 58.88243 |  0.46531815 | -0.5150879 | 1.6772575 | 14.860146 | 10.576487 | 127.39358 | 0 |\n",
       "| 103.01562 | 39.34165 |  0.32332837 |  1.0511644 | 3.1212375 | 21.744669 |  7.735822 |  63.17191 | 0 |\n",
       "| 136.75000 | 57.17845 | -0.06841464 | -0.6362384 | 3.6429766 | 20.959280 |  6.896499 |  53.59366 | 0 |\n",
       "|  88.72656 | 40.67223 |  0.60086608 |  1.1234917 | 1.1789298 | 11.468720 | 14.269573 | 252.56731 | 0 |\n",
       "|  93.57031 | 46.69811 |  0.53190485 |  0.4167211 | 1.6362876 | 14.545074 | 10.621748 | 131.39400 | 0 |\n",
       "| 119.48438 | 48.76506 |  0.03146022 | -0.1121676 | 0.9991639 |  9.279612 | 19.206230 | 479.75657 | 0 |\n",
       "| 130.38281 | 39.84406 | -0.15832276 |  0.3895404 | 1.2207358 | 14.378941 | 13.539456 | 198.23646 | 0 |\n",
       "| 107.25000 | 52.62708 |  0.45268802 |  0.1703474 | 2.3319398 | 14.486853 |  9.001004 | 107.97251 | 0 |\n",
       "| 107.25781 | 39.49649 |  0.46588196 |  1.1628771 | 4.0794314 | 24.980418 |  7.397080 |  57.78474 | 0 |\n",
       "\n"
      ],
      "text/plain": [
       "   mean_of_int_profiles sd_of_int_profiles excess_kurtosis_of_int_profiles\n",
       "1  140.56250            55.68378           -0.23457141                    \n",
       "2  102.50781            58.88243            0.46531815                    \n",
       "3  103.01562            39.34165            0.32332837                    \n",
       "4  136.75000            57.17845           -0.06841464                    \n",
       "5   88.72656            40.67223            0.60086608                    \n",
       "6   93.57031            46.69811            0.53190485                    \n",
       "7  119.48438            48.76506            0.03146022                    \n",
       "8  130.38281            39.84406           -0.15832276                    \n",
       "9  107.25000            52.62708            0.45268802                    \n",
       "10 107.25781            39.49649            0.46588196                    \n",
       "   skewness_of_int_profiles mean_of_curve sd_of_curve excess_kurtosis_of_curve\n",
       "1  -0.6996484               3.1998328     19.110426    7.975532               \n",
       "2  -0.5150879               1.6772575     14.860146   10.576487               \n",
       "3   1.0511644               3.1212375     21.744669    7.735822               \n",
       "4  -0.6362384               3.6429766     20.959280    6.896499               \n",
       "5   1.1234917               1.1789298     11.468720   14.269573               \n",
       "6   0.4167211               1.6362876     14.545074   10.621748               \n",
       "7  -0.1121676               0.9991639      9.279612   19.206230               \n",
       "8   0.3895404               1.2207358     14.378941   13.539456               \n",
       "9   0.1703474               2.3319398     14.486853    9.001004               \n",
       "10  1.1628771               4.0794314     24.980418    7.397080               \n",
       "   skewness_of_curve true_pulsar\n",
       "1   74.24222         0          \n",
       "2  127.39358         0          \n",
       "3   63.17191         0          \n",
       "4   53.59366         0          \n",
       "5  252.56731         0          \n",
       "6  131.39400         0          \n",
       "7  479.75657         0          \n",
       "8  198.23646         0          \n",
       "9  107.97251         0          \n",
       "10  57.78474         0          "
      ]
     },
     "metadata": {},
     "output_type": "display_data"
    }
   ],
   "source": [
    "# Downloading from url \n",
    "url <- \"https://archive.ics.uci.edu/ml/machine-learning-databases/00372/HTRU2.zip\"\n",
    "dir.create(\"data\")\n",
    "file <- download.file(url, \"data/HTRU2.zip\")\n",
    "\n",
    "# Because the data we need is in a .zip file, we use the unzip() function in order to access \"HTRU_2.csv\"\n",
    "star_data <- read_csv(unzip(\"data/HTRU2.zip\", files = \"HTRU_2.csv\", exdir = \"data/\"), \n",
    "            col_names = c(\"mean_of_int_profiles\", \"sd_of_int_profiles\", \"excess_kurtosis_of_int_profiles\",\n",
    "            \"skewness_of_int_profiles\", \"mean_of_curve\", \"sd_of_curve\", \n",
    "            \"excess_kurtosis_of_curve\", \"skewness_of_curve\", \"true_pulsar\")) |>\n",
    "    mutate(true_pulsar = as_factor(true_pulsar))\n",
    "slice(star_data, 1:10)\n",
    "# Below is a snapshot of the star data we will be working with"
   ]
  },
  {
   "cell_type": "markdown",
   "id": "b54513df-0446-402f-8d70-1729ea6f9d92",
   "metadata": {},
   "source": [
    "The first step is to split our data into a training and a testing set:"
   ]
  },
  {
   "cell_type": "code",
   "execution_count": 10,
   "id": "1609615d-ea1a-4db4-b91c-670027f08149",
   "metadata": {},
   "outputs": [],
   "source": [
    "# DO NOT REMOVE\n",
    "set.seed(9999) \n",
    "\n",
    "# Splitting data into training and testing, with true_pulsar as the strata\n",
    "pulsar_split <- initial_split(star_data, prop = 0.75, strata = true_pulsar)  \n",
    "pulsar_train <- training(pulsar_split)   \n",
    "pulsar_test <- testing(pulsar_split)"
   ]
  },
  {
   "cell_type": "markdown",
   "id": "c3c1eebf-a3e2-4d3c-8001-661df3f9f460",
   "metadata": {},
   "source": [
    "#### Preliminary Exploratory Data Analysis\n",
    "\n",
    "Before we begin classification, we will first take a closer look at our training data."
   ]
  },
  {
   "cell_type": "code",
   "execution_count": 11,
   "id": "42407232-42f5-434c-9b5f-ce961a34b8d6",
   "metadata": {},
   "outputs": [
    {
     "data": {
      "text/html": [
       "<table class=\"dataframe\">\n",
       "<caption>A tibble: 2 × 2</caption>\n",
       "<thead>\n",
       "\t<tr><th scope=col>true_pulsar</th><th scope=col>number</th></tr>\n",
       "\t<tr><th scope=col>&lt;fct&gt;</th><th scope=col>&lt;int&gt;</th></tr>\n",
       "</thead>\n",
       "<tbody>\n",
       "\t<tr><td>0</td><td>12207</td></tr>\n",
       "\t<tr><td>1</td><td> 1216</td></tr>\n",
       "</tbody>\n",
       "</table>\n"
      ],
      "text/latex": [
       "A tibble: 2 × 2\n",
       "\\begin{tabular}{ll}\n",
       " true\\_pulsar & number\\\\\n",
       " <fct> & <int>\\\\\n",
       "\\hline\n",
       "\t 0 & 12207\\\\\n",
       "\t 1 &  1216\\\\\n",
       "\\end{tabular}\n"
      ],
      "text/markdown": [
       "\n",
       "A tibble: 2 × 2\n",
       "\n",
       "| true_pulsar &lt;fct&gt; | number &lt;int&gt; |\n",
       "|---|---|\n",
       "| 0 | 12207 |\n",
       "| 1 |  1216 |\n",
       "\n"
      ],
      "text/plain": [
       "  true_pulsar number\n",
       "1 0           12207 \n",
       "2 1            1216 "
      ]
     },
     "metadata": {},
     "output_type": "display_data"
    }
   ],
   "source": [
    "# Summarizing data into table counting the number of true and false pulsars\n",
    "pulsar_frequency <- pulsar_train |>\n",
    "    group_by(true_pulsar) |>\n",
    "    summarize(number = n())\n",
    "pulsar_frequency"
   ]
  },
  {
   "cell_type": "code",
   "execution_count": 12,
   "id": "09fca64f-3eed-4300-bc2a-1e1f063321c6",
   "metadata": {},
   "outputs": [
    {
     "data": {
      "text/html": [
       "<table class=\"dataframe\">\n",
       "<caption>A tibble: 2 × 3</caption>\n",
       "<thead>\n",
       "\t<tr><th scope=col>true_pulsar</th><th scope=col>avg_mean_of_int_profiles</th><th scope=col>avg_mean_of_curve</th></tr>\n",
       "\t<tr><th scope=col>&lt;fct&gt;</th><th scope=col>&lt;dbl&gt;</th><th scope=col>&lt;dbl&gt;</th></tr>\n",
       "</thead>\n",
       "<tbody>\n",
       "\t<tr><td>0</td><td>116.68182</td><td> 8.886237</td></tr>\n",
       "\t<tr><td>1</td><td> 56.47867</td><td>50.112724</td></tr>\n",
       "</tbody>\n",
       "</table>\n"
      ],
      "text/latex": [
       "A tibble: 2 × 3\n",
       "\\begin{tabular}{lll}\n",
       " true\\_pulsar & avg\\_mean\\_of\\_int\\_profiles & avg\\_mean\\_of\\_curve\\\\\n",
       " <fct> & <dbl> & <dbl>\\\\\n",
       "\\hline\n",
       "\t 0 & 116.68182 &  8.886237\\\\\n",
       "\t 1 &  56.47867 & 50.112724\\\\\n",
       "\\end{tabular}\n"
      ],
      "text/markdown": [
       "\n",
       "A tibble: 2 × 3\n",
       "\n",
       "| true_pulsar &lt;fct&gt; | avg_mean_of_int_profiles &lt;dbl&gt; | avg_mean_of_curve &lt;dbl&gt; |\n",
       "|---|---|---|\n",
       "| 0 | 116.68182 |  8.886237 |\n",
       "| 1 |  56.47867 | 50.112724 |\n",
       "\n"
      ],
      "text/plain": [
       "  true_pulsar avg_mean_of_int_profiles avg_mean_of_curve\n",
       "1 0           116.68182                 8.886237        \n",
       "2 1            56.47867                50.112724        "
      ]
     },
     "metadata": {},
     "output_type": "display_data"
    }
   ],
   "source": [
    "# Creating another table that shows the average of our intended predictor variables\n",
    "pulsar_predictors <- pulsar_train |>\n",
    "    group_by(true_pulsar) |>\n",
    "    summarize(avg_mean_of_int_profiles = mean(mean_of_int_profiles),\n",
    "              avg_mean_of_curve = mean(mean_of_curve))\n",
    "\n",
    "pulsar_predictors"
   ]
  },
  {
   "cell_type": "markdown",
   "id": "87a7e623-7909-4aaf-9788-a9e805744f71",
   "metadata": {},
   "source": [
    "### Discussion"
   ]
  },
  {
   "cell_type": "markdown",
   "id": "6de262e5-5b00-48cd-91a8-9a0a487e48ae",
   "metadata": {},
   "source": []
  },
  {
   "cell_type": "markdown",
   "id": "814325b7-bf64-47ca-95cd-5534de2c740a",
   "metadata": {},
   "source": [
    "### References"
   ]
  },
  {
   "cell_type": "markdown",
   "id": "b2aa82b3-d620-4151-86ee-c459251d28de",
   "metadata": {},
   "source": []
  },
  {
   "cell_type": "code",
   "execution_count": null,
   "id": "efa509b1-71a4-417f-b079-64ac1c3507b6",
   "metadata": {},
   "outputs": [],
   "source": []
  }
 ],
 "metadata": {
  "kernelspec": {
   "display_name": "R",
   "language": "R",
   "name": "ir"
  },
  "language_info": {
   "codemirror_mode": "r",
   "file_extension": ".r",
   "mimetype": "text/x-r-source",
   "name": "R",
   "pygments_lexer": "r",
   "version": "4.1.3"
  }
 },
 "nbformat": 4,
 "nbformat_minor": 5
}
